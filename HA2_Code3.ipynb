{
  "cells": [
    {
      "cell_type": "markdown",
      "metadata": {
        "id": "G61d6bBI94H0"
      },
      "source": [
        "Question 3:CNN Feature Extraction With Filters and Pooling"
      ]
    },
    {
      "cell_type": "markdown",
      "metadata": {
        "id": "rMafoyqP-IRq"
      },
      "source": [
        "TASK 1 : Implement Edge Detection Using Convolution"
      ]
    },
    {
      "cell_type": "code",
      "execution_count": 1,
      "metadata": {
        "colab": {
          "base_uri": "https://localhost:8080/",
          "height": 186
        },
        "id": "EnE4vGlQ93Py",
        "outputId": "916d87bd-98f0-421c-97bd-6751ae48ee3c"
      },
      "outputs": [
        {
          "ename": "SyntaxError",
          "evalue": "(unicode error) 'unicodeescape' codec can't decode bytes in position 2-3: truncated \\UXXXXXXXX escape (4266068687.py, line 7)",
          "output_type": "error",
          "traceback": [
            "  \u001b[36mCell\u001b[39m\u001b[36m \u001b[39m\u001b[32mIn[1]\u001b[39m\u001b[32m, line 7\u001b[39m\n\u001b[31m    \u001b[39m\u001b[31mimage = cv2.imread('C:\\Users\\jyost\\OneDrive\\Pictures\\Screenshots', cv2.IMREAD_GRAYSCALE)\u001b[39m\n                       ^\n\u001b[31mSyntaxError\u001b[39m\u001b[31m:\u001b[39m (unicode error) 'unicodeescape' codec can't decode bytes in position 2-3: truncated \\UXXXXXXXX escape\n"
          ]
        }
      ],
      "source": [
        "import cv2\n",
        "import numpy as np\n",
        "import matplotlib.pyplot as plt\n",
        "\n",
        "# Load the image in grayscale\n",
        "# Replace 'sample.jpg' with the correct path to your image file\n",
        "image = cv2.imread('C:\\Users\\jyost\\OneDrive\\Pictures\\Screenshots', cv2.IMREAD_GRAYSCALE)\n",
        "\n",
        "# Check if the image was loaded successfully\n",
        "if image is None:\n",
        "    print(\"Error: Could not load image. Please check the file path.\")\n",
        "else:\n",
        "    # Apply Sobel filter for edge detection in x and y directions\n",
        "    sobel_x = cv2.Sobel(image, cv2.CV_64F, 1, 0, ksize=3)  # Sobel filter in X direction\n",
        "    sobel_y = cv2.Sobel(image, cv2.CV_64F, 0, 1, ksize=3)  # Sobel filter in Y direction\n",
        "\n",
        "    # Convert scale for display\n",
        "    sobel_x = cv2.convertScaleAbs(sobel_x)\n",
        "    sobel_y = cv2.convertScaleAbs(sobel_y)\n",
        "\n",
        "    # Display images using Matplotlib\n",
        "    plt.figure(figsize=(12, 4))\n",
        "\n",
        "    plt.subplot(1, 3, 1)\n",
        "    plt.imshow(image, cmap='gray')\n",
        "    plt.title(\"Original Image\")\n",
        "    plt.axis(\"off\")\n",
        "\n",
        "    plt.subplot(1, 3, 2)\n",
        "    plt.imshow(sobel_x, cmap='gray')\n",
        "    plt.title(\"Sobel Edge Detection - X\")\n",
        "    plt.axis(\"off\")\n",
        "\n",
        "    plt.subplot(1, 3, 3)\n",
        "    plt.imshow(sobel_y, cmap='gray')\n",
        "    plt.title(\"Sobel Edge Detection - Y\")\n",
        "    plt.axis(\"off\")\n",
        "\n",
        "    plt.show()"
      ]
    },
    {
      "cell_type": "markdown",
      "metadata": {
        "id": "MqQkgjoeAGtd"
      },
      "source": [
        "TASK 2 :Implement Max Pooling and Average Pooling\n"
      ]
    },
    {
      "cell_type": "code",
      "execution_count": null,
      "metadata": {
        "colab": {
          "base_uri": "https://localhost:8080/"
        },
        "id": "xeAbDxNhAQ6l",
        "outputId": "ed75a921-5dd1-4de4-b46b-646dcb2d599d"
      },
      "outputs": [
        {
          "name": "stdout",
          "output_type": "stream",
          "text": [
            "Original Matrix:\n",
            " [[5. 8. 6. 2.]\n",
            " [6. 7. 9. 4.]\n",
            " [5. 6. 2. 8.]\n",
            " [7. 8. 8. 9.]]\n",
            "\n",
            "Max Pooled Matrix (2×2):\n",
            " [[8. 9.]\n",
            " [8. 9.]]\n",
            "\n",
            "Average Pooled Matrix (2×2):\n",
            " [[6.5  5.25]\n",
            " [6.5  6.75]]\n"
          ]
        }
      ],
      "source": [
        "import tensorflow as tf\n",
        "import numpy as np\n",
        "\n",
        "# Create a random 4×4 matrix as input\n",
        "input_matrix = np.random.randint(1, 10, (1, 4, 4, 1)).astype(np.float32)  # Shape (batch, height, width, channels) # Changed to np.float32\n",
        "\n",
        "# Define Max Pooling and Average Pooling layers\n",
        "max_pooling = tf.keras.layers.MaxPooling2D(pool_size=(2, 2), strides=2, padding='valid')\n",
        "avg_pooling = tf.keras.layers.AveragePooling2D(pool_size=(2, 2), strides=2, padding='valid')\n",
        "\n",
        "# Apply pooling operations\n",
        "max_pooled_matrix = max_pooling(input_matrix).numpy().squeeze()  # Remove unnecessary dimensions\n",
        "avg_pooled_matrix = avg_pooling(input_matrix).numpy().squeeze()\n",
        "\n",
        "# Print matrices\n",
        "print(\"Original Matrix:\\n\", input_matrix.squeeze())  # Remove batch & channel dimensions for readability\n",
        "print(\"\\nMax Pooled Matrix (2×2):\\n\", max_pooled_matrix)\n",
        "print(\"\\nAverage Pooled Matrix (2×2):\\n\", avg_pooled_matrix)"
      ]
    }
  ],
  "metadata": {
    "colab": {
      "provenance": []
    },
    "kernelspec": {
      "display_name": "Python 3",
      "name": "python3"
    },
    "language_info": {
      "codemirror_mode": {
        "name": "ipython",
        "version": 3
      },
      "file_extension": ".py",
      "mimetype": "text/x-python",
      "name": "python",
      "nbconvert_exporter": "python",
      "pygments_lexer": "ipython3",
      "version": "3.12.4"
    }
  },
  "nbformat": 4,
  "nbformat_minor": 0
}
